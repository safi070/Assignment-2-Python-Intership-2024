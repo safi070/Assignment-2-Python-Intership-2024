{
 "cells": [
  {
   "cell_type": "markdown",
   "id": "13e56659-9456-4f67-bb29-a9c7e16d068a",
   "metadata": {},
   "source": [
    "# Python Online Summer Intership 2024"
   ]
  },
  {
   "cell_type": "markdown",
   "id": "16af08c5-6b51-4142-b642-0f22144e15fa",
   "metadata": {},
   "source": [
    "## Make your place in Top 20% in python programof the world "
   ]
  },
  {
   "cell_type": "markdown",
   "id": "7bbd629f-1048-42d9-b213-ef77fa8108b8",
   "metadata": {},
   "source": [
    "# Name : M. Safi-Ur-Rehman"
   ]
  },
  {
   "cell_type": "markdown",
   "id": "d1d59959-dd1c-469b-8e9f-4f1cc9f6c277",
   "metadata": {},
   "source": [
    "# Email : safirehman083@gmail.com"
   ]
  },
  {
   "cell_type": "markdown",
   "id": "b8cb61b0-662d-41fe-84c4-b1056fdc9649",
   "metadata": {},
   "source": [
    "#                                  TITLE :   Assignment 2"
   ]
  },
  {
   "cell_type": "markdown",
   "id": "2f587f8b-8441-4c1a-bff3-98a58a9a0faf",
   "metadata": {},
   "source": []
  },
  {
   "cell_type": "markdown",
   "id": "dd51383e-fc13-4d07-b731-e5c3e1d41139",
   "metadata": {},
   "source": [
    "## -> ** Arrays ** <--"
   ]
  },
  {
   "cell_type": "markdown",
   "id": "c963f377-22ee-407b-b1c2-425c0f41307d",
   "metadata": {},
   "source": [
    "## Task 1"
   ]
  },
  {
   "cell_type": "markdown",
   "id": "a3ac63de-5468-4bab-99f1-28ce99970f36",
   "metadata": {},
   "source": [
    "### Initialization and modification of arrays"
   ]
  },
  {
   "cell_type": "code",
   "execution_count": 13,
   "id": "2c334c15-6f26-439c-8552-674284f11b1c",
   "metadata": {},
   "outputs": [
    {
     "name": "stdout",
     "output_type": "stream",
     "text": [
      "[23.5, 43.2, 61.7, 15.3]\n",
      "[23.5, 43.2, 68.3, 15.3]\n",
      "[23.5, 43.2, 68.3, 25.3]\n"
     ]
    }
   ],
   "source": [
    "ages = [23.5,43.2,61.7,15.3]\n",
    "print(ages)\n",
    "ages [2] = 68.3\n",
    "print(ages)\n",
    "ages [3]= ages[3]+10\n",
    "print(ages)\n",
    " "
   ]
  },
  {
   "cell_type": "markdown",
   "id": "022593cb-c64a-4a9c-9be9-7d1eeba0856d",
   "metadata": {},
   "source": [
    "## Task 2"
   ]
  },
  {
   "cell_type": "markdown",
   "id": "6f24b793-0f1a-457f-ad11-f1f5a997207d",
   "metadata": {},
   "source": [
    "### Intialization of arrays in runtime"
   ]
  },
  {
   "cell_type": "code",
   "execution_count": 14,
   "id": "a0f6c8bf-20ab-43a2-b3df-5b4d2b321a58",
   "metadata": {},
   "outputs": [
    {
     "name": "stdout",
     "output_type": "stream",
     "text": [
      "Enter the marks of student [ 1 ] : \n"
     ]
    },
    {
     "name": "stdin",
     "output_type": "stream",
     "text": [
      " 23\n"
     ]
    },
    {
     "name": "stdout",
     "output_type": "stream",
     "text": [
      "Enter the marks of student [ 2 ] : \n"
     ]
    },
    {
     "name": "stdin",
     "output_type": "stream",
     "text": [
      " 45\n"
     ]
    },
    {
     "name": "stdout",
     "output_type": "stream",
     "text": [
      "Enter the marks of student [ 3 ] : \n"
     ]
    },
    {
     "name": "stdin",
     "output_type": "stream",
     "text": [
      " 67\n"
     ]
    },
    {
     "name": "stdout",
     "output_type": "stream",
     "text": [
      "Enter the marks of student [ 4 ] : \n"
     ]
    },
    {
     "name": "stdin",
     "output_type": "stream",
     "text": [
      " 9\n"
     ]
    },
    {
     "name": "stdout",
     "output_type": "stream",
     "text": [
      "Enter the marks of student [ 5 ] : \n"
     ]
    },
    {
     "name": "stdin",
     "output_type": "stream",
     "text": [
      " 34\n"
     ]
    },
    {
     "name": "stdout",
     "output_type": "stream",
     "text": [
      "Values Inserted by user are : [23.0, 45.0, 67.0, 9.0, 34.0]\n"
     ]
    }
   ],
   "source": [
    "marks = []\n",
    "for counter in range (5):\n",
    "    print(\"Enter the marks of student [\",counter+1,\"] : \" )\n",
    "    mark=float(input())\n",
    "    marks +=[mark]\n",
    "print (\"Values Inserted by user are :\", marks)"
   ]
  },
  {
   "cell_type": "markdown",
   "id": "ca02f25e-92de-4202-81ac-b0928ad4cab8",
   "metadata": {},
   "source": [
    "## Task 3"
   ]
  },
  {
   "cell_type": "markdown",
   "id": "45187469-bb27-4254-a991-d1e348bf34ba",
   "metadata": {},
   "source": [
    "### Display of Arrays"
   ]
  },
  {
   "cell_type": "code",
   "execution_count": 15,
   "id": "8a7228bd-6cad-4dd5-99c7-0cb7be8dbf16",
   "metadata": {},
   "outputs": [
    {
     "name": "stdout",
     "output_type": "stream",
     "text": [
      "13\n",
      "34\n",
      "65\n",
      "8\n"
     ]
    }
   ],
   "source": [
    "ages=[13,34,65,8]\n",
    "counter =0\n",
    "for age in ages:\n",
    "    print(age)\n",
    "    counter+=1"
   ]
  },
  {
   "cell_type": "markdown",
   "id": "c9211238-9520-4c5e-9089-482ff455c51d",
   "metadata": {},
   "source": [
    "## -----------------------------------------------------------------------------------------------------------"
   ]
  },
  {
   "cell_type": "markdown",
   "id": "a92501f9-9dc8-457b-bc3e-097f11ba142b",
   "metadata": {},
   "source": [
    "## -> ** Strings ** <--"
   ]
  },
  {
   "cell_type": "markdown",
   "id": "98c58171-d6f6-4e0e-9967-aa8c82645d2c",
   "metadata": {},
   "source": [
    "## Task 1"
   ]
  },
  {
   "cell_type": "markdown",
   "id": "fad2be8c-08c0-47fc-8653-efc46b8b31ec",
   "metadata": {},
   "source": [
    "### Representing of string by single, double and tripple quote"
   ]
  },
  {
   "cell_type": "code",
   "execution_count": 16,
   "id": "e26cdcbf-e2ca-4bdb-9a8b-15e1173437de",
   "metadata": {},
   "outputs": [
    {
     "name": "stdout",
     "output_type": "stream",
     "text": [
      "Hazrat Muhammad (PBUH) is the last Messenger of Allah. \n"
     ]
    }
   ],
   "source": [
    "print('Hazrat Muhammad (PBUH) is the last Messenger of Allah. ') "
   ]
  },
  {
   "cell_type": "code",
   "execution_count": 17,
   "id": "150e4089-a28b-45f6-a278-bd9530b3e211",
   "metadata": {},
   "outputs": [
    {
     "name": "stdout",
     "output_type": "stream",
     "text": [
      "Hazrat Muhammad (PBUH) is the last Messenger of Allah. He’s (PBUH) role model for us in all fields of life. \n"
     ]
    }
   ],
   "source": [
    "# by double qoute string\n",
    "print(\"Hazrat Muhammad (PBUH) is the last Messenger of Allah. He’s (PBUH) role model for us in all fields of life. \")"
   ]
  },
  {
   "cell_type": "code",
   "execution_count": 19,
   "id": "b51a8f1d-c3c8-4403-b54d-0082d0a307dd",
   "metadata": {},
   "outputs": [
    {
     "name": "stdout",
     "output_type": "stream",
     "text": [
      "Hazrat Muhammad (PBUH) is the last Messenger of Allah.  \n",
      "He’s (PBUH) role model for us in all fields of life. \n",
      "One who doesn’t accept Hazrat Muhammad (PBUH) as the last Messenger of Allah is non- muslim \n"
     ]
    }
   ],
   "source": [
    "# by tripple quotes \n",
    "print(\"\"\"Hazrat Muhammad (PBUH) is the last Messenger of Allah.  \n",
    "He’s (PBUH) role model for us in all fields of life. \n",
    "One who doesn’t accept Hazrat Muhammad (PBUH) as the last Messenger of Allah is non- muslim \"\"\")\n"
   ]
  },
  {
   "cell_type": "markdown",
   "id": "acd8b690-78fa-4ccb-98e0-d0287d473086",
   "metadata": {},
   "source": [
    "## Task 2"
   ]
  },
  {
   "cell_type": "markdown",
   "id": "b0fd13bf-ff69-4851-8df8-5d5953ed309d",
   "metadata": {},
   "source": [
    "### Determine the length"
   ]
  },
  {
   "cell_type": "code",
   "execution_count": 21,
   "id": "6bc72f8f-4aba-4b49-aac4-c1436430fa2e",
   "metadata": {},
   "outputs": [
    {
     "name": "stdout",
     "output_type": "stream",
     "text": [
      "Hazrat Muhammad (PBUH) is the last Messenger of Allah. \n"
     ]
    },
    {
     "data": {
      "text/plain": [
       "54"
      ]
     },
     "execution_count": 21,
     "metadata": {},
     "output_type": "execute_result"
    }
   ],
   "source": [
    "# By Single quote\n",
    "print('Hazrat Muhammad (PBUH) is the last Messenger of Allah. ') \n",
    "len('Hazrat Muhammad (PBUH) is the last Messenger of Allah.')"
   ]
  },
  {
   "cell_type": "code",
   "execution_count": 22,
   "id": "1b6a1555-4d05-4b59-9987-fc0e266bbdbe",
   "metadata": {},
   "outputs": [
    {
     "name": "stdout",
     "output_type": "stream",
     "text": [
      "Hazrat Muhammad (PBUH) is the last Messenger of Allah. He’s (PBUH) role model for us in all fields of life. \n",
      "107\n"
     ]
    }
   ],
   "source": [
    "# by double qoute string\n",
    "print(\"Hazrat Muhammad (PBUH) is the last Messenger of Allah. He’s (PBUH) role model for us in all fields of life. \")\n",
    "print(len(\"Hazrat Muhammad (PBUH) is the last Messenger of Allah. He’s (PBUH) role model for us in all fields of life.\"))"
   ]
  },
  {
   "cell_type": "markdown",
   "id": "555669c0-3c8b-4aec-8f63-24b621e0ef60",
   "metadata": {},
   "source": [
    "## Task 3"
   ]
  },
  {
   "cell_type": "markdown",
   "id": "f32c17ac-63a2-4bb4-9dc5-a95231d16742",
   "metadata": {},
   "source": [
    "### Modifying a string"
   ]
  },
  {
   "cell_type": "code",
   "execution_count": 23,
   "id": "5b5e9ee7-89fb-41e9-917e-db6dcbb8a846",
   "metadata": {},
   "outputs": [
    {
     "name": "stdout",
     "output_type": "stream",
     "text": [
      "Hazrat Muhammad (PBUH) is the last Messenger of Allah.\n",
      "For Upper case\n",
      "HAZRAT MUHAMMAD (PBUH) IS THE LAST MESSENGER OF ALLAH.\n",
      "Forlower case\n",
      "hazrat muhammad (pbuh) is the last messenger of allah.\n",
      "For title case\n",
      "Hazrat Muhammad (Pbuh) Is The Last Messenger Of Allah.\n",
      "For Capitalize case\n",
      "Hazrat muhammad (pbuh) is the last messenger of allah.\n",
      "For center case\n",
      "--------Hazrat Muhammad (PBUH) is the last Messenger of Allah.--------\n"
     ]
    }
   ],
   "source": [
    "str = \"Hazrat Muhammad (PBUH) is the last Messenger of Allah.\"\n",
    "print(str)\n",
    "print(\"For Upper case\")\n",
    "print(str.upper())\n",
    "\n",
    "print(\"Forlower case\")\n",
    "print(str.lower())\n",
    "\n",
    "print(\"For title case\")\n",
    "print(str.title())\n",
    "\n",
    "print(\"For Capitalize case\")\n",
    "print(str.capitalize())\n",
    "\n",
    "print(\"For center case\")\n",
    "print(str.center(70,\"-\"))"
   ]
  },
  {
   "cell_type": "markdown",
   "id": "2292b207-cc65-437f-a5ad-d1ed598a9964",
   "metadata": {},
   "source": [
    "## Task 4"
   ]
  },
  {
   "cell_type": "markdown",
   "id": "5c3ab246-e88d-4a53-aafe-4c5c8ebe1b46",
   "metadata": {},
   "source": [
    "### Acessing string elements"
   ]
  },
  {
   "cell_type": "code",
   "execution_count": 25,
   "id": "de238ff7-c3ba-402e-8da2-cd6c0c7b638f",
   "metadata": {},
   "outputs": [
    {
     "name": "stdout",
     "output_type": "stream",
     "text": [
      "O\n",
      "n\n",
      "e\n"
     ]
    }
   ],
   "source": [
    "str = \"Allah is One \"\n",
    "print(str[9])\n",
    "print(str[10])\n",
    "print(str[11])"
   ]
  },
  {
   "cell_type": "markdown",
   "id": "ab211a06-7163-4b32-86a8-25bd9c5f2bc3",
   "metadata": {},
   "source": [
    "## Task 5"
   ]
  },
  {
   "cell_type": "markdown",
   "id": "ade73ba3-10e4-4e42-9b4f-ec74c6e83f2f",
   "metadata": {},
   "source": [
    "### Slicing string Elements"
   ]
  },
  {
   "cell_type": "code",
   "execution_count": 26,
   "id": "bdd74bbd-7a54-4727-9ab4-3a4733ac8289",
   "metadata": {},
   "outputs": [
    {
     "name": "stdout",
     "output_type": "stream",
     "text": [
      "Allah\n",
      "is\n"
     ]
    }
   ],
   "source": [
    "str = \"Allah is One\"\n",
    "print(str[:5]) # last element is not acessable\n",
    "print(str[6:8])"
   ]
  },
  {
   "cell_type": "markdown",
   "id": "a3d0980d-171d-43be-9097-4f0665118160",
   "metadata": {},
   "source": [
    "## Task 6 "
   ]
  },
  {
   "cell_type": "markdown",
   "id": "cc2443d1-7b36-468d-9f56-88ea4b8b7517",
   "metadata": {},
   "source": [
    "### Splitting String"
   ]
  },
  {
   "cell_type": "code",
   "execution_count": 27,
   "id": "c305ef81-dd39-4c90-bcb2-6ab742a885e8",
   "metadata": {},
   "outputs": [
    {
     "name": "stdout",
     "output_type": "stream",
     "text": [
      "['Allah', 'is', 'one', '']\n"
     ]
    }
   ],
   "source": [
    "str = \"Allah is one \"\n",
    "print(str.split(\" \")) # By default it consider it as space"
   ]
  },
  {
   "cell_type": "markdown",
   "id": "7e521d9c-a817-41ce-b687-7e9566cef80d",
   "metadata": {},
   "source": [
    "## Task 7"
   ]
  },
  {
   "cell_type": "markdown",
   "id": "0205a976-c755-498b-894b-f0d2eb6933ca",
   "metadata": {},
   "source": [
    "### Strip method on string"
   ]
  },
  {
   "cell_type": "code",
   "execution_count": 28,
   "id": "76e51f34-717b-430f-b940-f66ff24aa5ed",
   "metadata": {},
   "outputs": [
    {
     "name": "stdout",
     "output_type": "stream",
     "text": [
      "  Allah is One  \n",
      "Using .strip() method:\n",
      "Allah is One\n",
      "Using .lstrip() method:\n",
      "Allah is One  \n",
      "Using .rstrip() method:\n",
      "  Allah is One\n"
     ]
    }
   ],
   "source": [
    "string = \"  Allah is One  \"\n",
    "print(string)\n",
    "\n",
    "print(\"Using .strip() method:\")\n",
    "print(string.strip())\n",
    "\n",
    "print(\"Using .lstrip() method:\")\n",
    "print(string.lstrip())\n",
    "\n",
    "print(\"Using .rstrip() method:\")\n",
    "print(string.rstrip())"
   ]
  },
  {
   "cell_type": "markdown",
   "id": "a455cf83-0870-4684-a7cd-2dbb60ab2385",
   "metadata": {},
   "source": [
    "## -----------------------------------------------------------------------------------------------------------"
   ]
  },
  {
   "cell_type": "markdown",
   "id": "e053e37c-4baa-47f9-83e8-0e1e3ded52b3",
   "metadata": {},
   "source": [
    "## -> ** Lists ** <--"
   ]
  },
  {
   "cell_type": "markdown",
   "id": "3b047bd5-bd17-4aec-8c22-efd941b5a0d8",
   "metadata": {},
   "source": [
    "## Task 1"
   ]
  },
  {
   "cell_type": "markdown",
   "id": "25bd1f7c-9013-46f2-aee9-80b34ca36c23",
   "metadata": {},
   "source": [
    "### Creation"
   ]
  },
  {
   "cell_type": "code",
   "execution_count": 29,
   "id": "3a5effe6-277d-4f82-b56e-7aa14d92bad0",
   "metadata": {},
   "outputs": [
    {
     "name": "stdout",
     "output_type": "stream",
     "text": [
      "['apple', 'cherry']\n",
      "['apple', 'cherry', 'banana']\n"
     ]
    }
   ],
   "source": [
    "# It can be createed by two mwthods\n",
    "\n",
    "# 1) by using []\n",
    "mylist = [\"apple\",\"cherry\"]\n",
    "print(mylist)\n",
    "\n",
    "# 2) by using list () funtion\n",
    "mylist =list( [\"apple\",\"cherry\", \"banana\"])\n",
    "print(mylist)\n"
   ]
  },
  {
   "cell_type": "markdown",
   "id": "ee35aed8-9efb-4b15-aca7-ccc7f9153764",
   "metadata": {},
   "source": [
    "## Task 2"
   ]
  },
  {
   "cell_type": "markdown",
   "id": "509faaf2-2e94-48f9-adf1-70d5b92a82d4",
   "metadata": {},
   "source": [
    "### Insertion"
   ]
  },
  {
   "cell_type": "code",
   "execution_count": 30,
   "id": "743135a4-4dbc-4556-99ec-e7f51451650f",
   "metadata": {},
   "outputs": [
    {
     "name": "stdout",
     "output_type": "stream",
     "text": [
      "['apple', 'cherry', 'orange']\n",
      "['apple', 'cherry', 'Mango', 'orange']\n"
     ]
    }
   ],
   "source": [
    "# it can be added by two methods\n",
    "\n",
    "#  1) Append item\n",
    "mylist = [\"apple\",\"cherry\"]\n",
    "mylist.append(\"orange\")\n",
    "print(mylist)\n",
    "\n",
    "# 2) insert items \n",
    "mylist.insert(2,\"Mango\")\n",
    "print(mylist)"
   ]
  },
  {
   "cell_type": "markdown",
   "id": "e3bc9628-f42e-4941-8c5a-7bd2031da12c",
   "metadata": {},
   "source": [
    "## Task 3"
   ]
  },
  {
   "cell_type": "markdown",
   "id": "f602d194-10d6-4e12-b7e0-eaee682cf21d",
   "metadata": {},
   "source": [
    "### Updation"
   ]
  },
  {
   "cell_type": "code",
   "execution_count": 32,
   "id": "02106c06-baee-43fe-a4ca-e3a8a79bb49c",
   "metadata": {},
   "outputs": [
    {
     "name": "stdout",
     "output_type": "stream",
     "text": [
      "Before Updation  ['apple', 'cherry', 'banana']\n",
      "After Updation ['apple', 'Orange', 'banana']\n"
     ]
    }
   ],
   "source": [
    "#methode 1\n",
    "thelist = [\"apple\",\"cherry\", \"banana\"]\n",
    "print(\"Before Updation \",thelist)\n",
    "thelist[1]=\"Orange\"\n",
    "print(\"After Updation\",thelist)"
   ]
  },
  {
   "cell_type": "code",
   "execution_count": 35,
   "id": "1c099063-3410-4853-a485-34a1e5f1b4df",
   "metadata": {},
   "outputs": [
    {
     "name": "stdout",
     "output_type": "stream",
     "text": [
      "Before Updation  ['apple', 'Orange', 'banana']\n",
      "After Updation  ['apple', 'Orange', 'banana']\n"
     ]
    }
   ],
   "source": [
    "# Method 2 \n",
    "# by range of items\n",
    "thislist = [\"apple\", \"banana\", \"cherry\", \"orange\", \"kiwi\", \"mango\"]\n",
    "print(\"Before Updation \",thelist)\n",
    "thislist[1:3] = [\"blackcurrant\", \"watermelon\"]\n",
    "print(\"After Updation \",thelist)"
   ]
  },
  {
   "cell_type": "markdown",
   "id": "0c975950-9312-492a-ae95-f0e50cd99b0e",
   "metadata": {},
   "source": [
    "## Task 4"
   ]
  },
  {
   "cell_type": "markdown",
   "id": "d3671f13-1ff5-46c8-a56b-d71bd86714f1",
   "metadata": {},
   "source": [
    "### Deletion"
   ]
  },
  {
   "cell_type": "code",
   "execution_count": 37,
   "id": "59a3b9ea-404a-474d-a754-5c704c2a0b44",
   "metadata": {},
   "outputs": [
    {
     "name": "stdout",
     "output_type": "stream",
     "text": [
      "['apple', 'banana', 'cherry']\n",
      "['apple', 'cherry']\n"
     ]
    }
   ],
   "source": [
    "# method 1 by remove method \n",
    "thislist = [\"apple\", \"banana\", \"cherry\"]\n",
    "print(thislist)\n",
    "thislist.remove(\"banana\")\n",
    "print(thislist)"
   ]
  },
  {
   "cell_type": "code",
   "execution_count": 39,
   "id": "160df805-f694-43dc-829e-8e32d897525a",
   "metadata": {},
   "outputs": [
    {
     "name": "stdout",
     "output_type": "stream",
     "text": [
      "['apple', 'banana', 'cherry']\n",
      "['apple', 'cherry']\n"
     ]
    }
   ],
   "source": [
    "# method 2 by pop method \n",
    "thislist = [\"apple\", \"banana\", \"cherry\"]\n",
    "print(thislist)\n",
    "thislist.pop(1)\n",
    "print(thislist)"
   ]
  },
  {
   "cell_type": "code",
   "execution_count": 41,
   "id": "4695f77b-c7c2-46ba-bc5c-e89664e0847c",
   "metadata": {},
   "outputs": [
    {
     "name": "stdout",
     "output_type": "stream",
     "text": [
      "['apple', 'banana', 'cherry']\n",
      "['banana', 'cherry']\n"
     ]
    }
   ],
   "source": [
    "# method 3 by del keyword\n",
    "thislist = [\"apple\", \"banana\", \"cherry\"]\n",
    "print(thislist)\n",
    "del thislist[0]\n",
    "print(thislist)"
   ]
  },
  {
   "cell_type": "markdown",
   "id": "4a58ed18-565f-4798-865e-66de62606287",
   "metadata": {},
   "source": [
    "## Task 5"
   ]
  },
  {
   "cell_type": "markdown",
   "id": "df58d7e6-3858-43a4-a822-634b47ddeb5d",
   "metadata": {},
   "source": [
    "### Sorting Lists"
   ]
  },
  {
   "cell_type": "markdown",
   "id": "5c954358-a806-493d-becb-1448c8e08cd5",
   "metadata": {},
   "source": [
    "### In Acessding order"
   ]
  },
  {
   "cell_type": "code",
   "execution_count": 42,
   "id": "87783069-e2d1-438f-bbb8-73e741b90dfa",
   "metadata": {},
   "outputs": [
    {
     "name": "stdout",
     "output_type": "stream",
     "text": [
      "['orange', 'mango', 'kiwi', 'pineapple', 'banana']\n",
      "['banana', 'kiwi', 'mango', 'orange', 'pineapple']\n"
     ]
    }
   ],
   "source": [
    "# method 1 for strings\n",
    "thislist = [\"orange\", \"mango\", \"kiwi\", \"pineapple\", \"banana\"]\n",
    "print(thislist)\n",
    "thislist.sort()\n",
    "print(thislist)"
   ]
  },
  {
   "cell_type": "code",
   "execution_count": 43,
   "id": "ace246aa-0280-4f6c-b671-e3e95cd756c6",
   "metadata": {},
   "outputs": [
    {
     "name": "stdout",
     "output_type": "stream",
     "text": [
      "[100, 50, 65, 82, 23]\n",
      "[23, 50, 65, 82, 100]\n"
     ]
    }
   ],
   "source": [
    "# method 2 for Numbers \n",
    "thislist = [100, 50, 65, 82, 23]\n",
    "print(thislist)\n",
    "thislist.sort()\n",
    "print(thislist)"
   ]
  },
  {
   "cell_type": "markdown",
   "id": "017b215b-f357-45f1-81c5-63cb2c185b00",
   "metadata": {},
   "source": [
    "### In decending order"
   ]
  },
  {
   "cell_type": "code",
   "execution_count": 44,
   "id": "bff55d42-6884-47f3-9431-9a27ec17f273",
   "metadata": {},
   "outputs": [
    {
     "name": "stdout",
     "output_type": "stream",
     "text": [
      "['orange', 'mango', 'kiwi', 'pineapple', 'banana']\n",
      "['pineapple', 'orange', 'mango', 'kiwi', 'banana']\n"
     ]
    }
   ],
   "source": [
    "# method 1 for strings\n",
    "thislist = [\"orange\", \"mango\", \"kiwi\", \"pineapple\", \"banana\"]\n",
    "print(thislist)\n",
    "thislist.sort(reverse = True)\n",
    "print(thislist)"
   ]
  },
  {
   "cell_type": "code",
   "execution_count": 45,
   "id": "9ba27d27-a9ac-4ff2-b868-288a98ad7678",
   "metadata": {},
   "outputs": [
    {
     "name": "stdout",
     "output_type": "stream",
     "text": [
      "[100, 50, 65, 82, 23]\n",
      "[100, 82, 65, 50, 23]\n"
     ]
    }
   ],
   "source": [
    "# method 2 for numbers \n",
    "thislist = [100, 50, 65, 82, 23]\n",
    "print(thislist)\n",
    "thislist.sort(reverse = True)\n",
    "print(thislist)"
   ]
  },
  {
   "cell_type": "markdown",
   "id": "7db392d4-423c-4025-82db-5754beed240b",
   "metadata": {},
   "source": [
    "## Task 6"
   ]
  },
  {
   "cell_type": "markdown",
   "id": "d1d7ecb5-14a0-48e9-a670-3dbc94080a97",
   "metadata": {},
   "source": [
    "### Merging Lists"
   ]
  },
  {
   "cell_type": "code",
   "execution_count": 46,
   "id": "be8f0400-6d06-43a0-a736-3d015f66fd5b",
   "metadata": {},
   "outputs": [
    {
     "name": "stdout",
     "output_type": "stream",
     "text": [
      "['a', 'b', 'c', 1, 2, 3]\n"
     ]
    }
   ],
   "source": [
    "# Method 1 by concatenation\n",
    "list1 = [\"a\", \"b\", \"c\"]\n",
    "list2 = [1, 2, 3]\n",
    "\n",
    "list3 = list1 + list2\n",
    "print(list3)"
   ]
  },
  {
   "cell_type": "code",
   "execution_count": 47,
   "id": "4afb7430-7a34-46b1-a4c0-f1537c76dd73",
   "metadata": {},
   "outputs": [
    {
     "name": "stdout",
     "output_type": "stream",
     "text": [
      "['a', 'b', 'c', 1, 2, 3]\n"
     ]
    }
   ],
   "source": [
    "# method 2 by Append method\n",
    "list1 = [\"a\", \"b\" , \"c\"]\n",
    "list2 = [1, 2, 3]\n",
    "\n",
    "for x in list2:\n",
    "  list1.append(x)\n",
    "\n",
    "print(list1)"
   ]
  },
  {
   "cell_type": "code",
   "execution_count": 48,
   "id": "a8065cd8-430e-43b5-9adf-6dec611085bf",
   "metadata": {},
   "outputs": [
    {
     "name": "stdout",
     "output_type": "stream",
     "text": [
      "['a', 'b', 'c', 1, 2, 3]\n"
     ]
    }
   ],
   "source": [
    "# Method 3 By Extend method\n",
    "list1 = [\"a\", \"b\" , \"c\"]\n",
    "list2 = [1, 2, 3]\n",
    "\n",
    "list1.extend(list2)\n",
    "print(list1)"
   ]
  },
  {
   "cell_type": "markdown",
   "id": "3612e6d6-298a-4e99-86f3-0b95c2597048",
   "metadata": {},
   "source": [
    "## -----------------------------------------------------------------------------------------------------------"
   ]
  },
  {
   "cell_type": "markdown",
   "id": "97a29374-4ceb-4871-ba3f-e5ae265fa55b",
   "metadata": {},
   "source": [
    "## -> ** Dictionaries ** <--"
   ]
  },
  {
   "cell_type": "markdown",
   "id": "7fc81f44-a02f-4dd1-bc0c-6bff7da19e48",
   "metadata": {},
   "source": [
    "## Task 1 "
   ]
  },
  {
   "cell_type": "markdown",
   "id": "930a790a-a238-49a4-96ef-775bf7692c76",
   "metadata": {},
   "source": [
    "### Creation"
   ]
  },
  {
   "cell_type": "code",
   "execution_count": 49,
   "id": "98a671af-cbe9-42da-84a6-085e9450d86d",
   "metadata": {},
   "outputs": [
    {
     "name": "stdout",
     "output_type": "stream",
     "text": [
      "{'brand': 'Ford', 'model': 'Mustang', 'year': 1964}\n"
     ]
    }
   ],
   "source": [
    "thisdict = {\n",
    "  \"brand\": \"Ford\",\n",
    "  \"model\": \"Mustang\",\n",
    "  \"year\": 1964\n",
    "}\n",
    "print(thisdict)"
   ]
  },
  {
   "cell_type": "code",
   "execution_count": 50,
   "id": "bdfa99e2-58d2-4de1-8225-c89f564db9fc",
   "metadata": {},
   "outputs": [
    {
     "name": "stdout",
     "output_type": "stream",
     "text": [
      "{'name': 'John', 'age': 36, 'country': 'Norway'}\n"
     ]
    }
   ],
   "source": [
    "# Method 2 by dict()\n",
    "thisdict = dict(name = \"John\", age = 36, country = \"Norway\")\n",
    "print(thisdict)"
   ]
  },
  {
   "cell_type": "markdown",
   "id": "faafcf7e-5d8f-4bf1-a4f6-28e742859d6f",
   "metadata": {},
   "source": [
    "## Task 2"
   ]
  },
  {
   "cell_type": "markdown",
   "id": "c243189e-03da-4021-8a0d-49bed792acaf",
   "metadata": {},
   "source": [
    "### Insertion"
   ]
  },
  {
   "cell_type": "code",
   "execution_count": 57,
   "id": "5528eed7-0ec7-4e01-b4a2-2f0be7d20b61",
   "metadata": {},
   "outputs": [
    {
     "name": "stdout",
     "output_type": "stream",
     "text": [
      "{'brand': 'Ford', 'model': 'Mustang', 'year': 1964, 'color': 'red'}\n"
     ]
    }
   ],
   "source": [
    "# by simply adding adding in dictionary\n",
    "thisdict = {\n",
    "  \"brand\": \"Ford\",\n",
    "  \"model\": \"Mustang\",\n",
    "  \"year\": 1964\n",
    "}\n",
    "thisdict[\"color\"] = \"red\"\n",
    "print(thisdict)"
   ]
  },
  {
   "cell_type": "code",
   "execution_count": 60,
   "id": "4af50e17-fae9-459c-9d47-a6ac92e7762b",
   "metadata": {},
   "outputs": [
    {
     "name": "stdout",
     "output_type": "stream",
     "text": [
      "{'brand': 'Ford', 'model': 'Mustang', 'year': 1964, 'color': 'red'}\n"
     ]
    }
   ],
   "source": [
    "# by Update method to insert new items\n",
    "thisdict = {\n",
    "  \"brand\": \"Ford\",\n",
    "  \"model\": \"Mustang\",\n",
    "  \"year\": 1964\n",
    "}\n",
    "thisdict.update({\"color\": \"red\"})\n",
    "\n",
    "print(thisdict)\n"
   ]
  },
  {
   "cell_type": "markdown",
   "id": "23a88c29-8bdc-475f-8b24-932c3db3f18a",
   "metadata": {},
   "source": [
    "## Task 3"
   ]
  },
  {
   "cell_type": "markdown",
   "id": "933a64b5-28b2-45b0-a6da-9e2b10773d3b",
   "metadata": {},
   "source": [
    "### Updation"
   ]
  },
  {
   "cell_type": "code",
   "execution_count": 63,
   "id": "12a84f84-9958-47ef-986d-bdd18d20d725",
   "metadata": {},
   "outputs": [
    {
     "name": "stdout",
     "output_type": "stream",
     "text": [
      "{'brand': 'Ford', 'model': 'Mustang', 'year': 1964}\n",
      "{'brand': 'Ford', 'model': 'Mustang', 'year': 2018}\n"
     ]
    }
   ],
   "source": [
    "# by simply specifying the value to be updated\n",
    "thisdict = {\n",
    "  \"brand\": \"Ford\",\n",
    "  \"model\": \"Mustang\",\n",
    "  \"year\": 1964\n",
    "}\n",
    "print(thisdict)\n",
    "thisdict[\"year\"] = 2018\n",
    "print(thisdict)\n"
   ]
  },
  {
   "cell_type": "code",
   "execution_count": 65,
   "id": "74bc7d4b-0d36-4c9c-ab0d-8a451a53692d",
   "metadata": {},
   "outputs": [
    {
     "name": "stdout",
     "output_type": "stream",
     "text": [
      "{'brand': 'Ford', 'model': 'Mustang', 'year': 1964}\n",
      "{'brand': 'Ford', 'model': 'Mustang', 'year': 2020}\n"
     ]
    }
   ],
   "source": [
    "# by update methode\n",
    "thisdict = {\n",
    "  \"brand\": \"Ford\",\n",
    "  \"model\": \"Mustang\",\n",
    "  \"year\": 1964\n",
    "}\n",
    "print(thisdict)\n",
    "thisdict.update({\"year\": 2020})\n",
    "print(thisdict)"
   ]
  },
  {
   "cell_type": "markdown",
   "id": "1c03e720-bab2-4ea9-93b0-4b9c390b189e",
   "metadata": {},
   "source": [
    "## Task 4"
   ]
  },
  {
   "cell_type": "markdown",
   "id": "0b263ca5-aeee-4870-b1c3-62e0922e0068",
   "metadata": {},
   "source": [
    "### Deletion"
   ]
  },
  {
   "cell_type": "code",
   "execution_count": 66,
   "id": "8a100a09-6dbe-495f-8bc0-3de8088f3c5f",
   "metadata": {},
   "outputs": [
    {
     "name": "stdout",
     "output_type": "stream",
     "text": [
      "{'brand': 'Ford', 'model': 'Mustang', 'year': 1964}\n",
      "{'brand': 'Ford', 'year': 1964}\n"
     ]
    }
   ],
   "source": [
    "# by Pop method\n",
    "thisdict = {\n",
    "  \"brand\": \"Ford\",\n",
    "  \"model\": \"Mustang\",\n",
    "  \"year\": 1964\n",
    "}\n",
    "print(thisdict)\n",
    "thisdict.pop(\"model\")\n",
    "print(thisdict)"
   ]
  },
  {
   "cell_type": "code",
   "execution_count": 67,
   "id": "27fc0434-06c3-4f4f-bf6d-931888320872",
   "metadata": {},
   "outputs": [
    {
     "name": "stdout",
     "output_type": "stream",
     "text": [
      "{'brand': 'Ford', 'model': 'Mustang', 'year': 1964}\n",
      "{'brand': 'Ford', 'year': 1964}\n"
     ]
    }
   ],
   "source": [
    "# By del keyword\n",
    "thisdict = {\n",
    "  \"brand\": \"Ford\",\n",
    "  \"model\": \"Mustang\",\n",
    "  \"year\": 1964\n",
    "}\n",
    "print(thisdict)\n",
    "del thisdict[\"model\"]\n",
    "print(thisdict)"
   ]
  },
  {
   "cell_type": "code",
   "execution_count": 68,
   "id": "81643da8-8255-4c8b-aa84-f5589068733c",
   "metadata": {},
   "outputs": [
    {
     "name": "stdout",
     "output_type": "stream",
     "text": [
      "{}\n"
     ]
    }
   ],
   "source": [
    "# by clear methos \n",
    "# it empties the string not delete the string\n",
    "thisdict = {\n",
    "  \"brand\": \"Ford\",\n",
    "  \"model\": \"Mustang\",\n",
    "  \"year\": 1964\n",
    "}\n",
    "thisdict.clear()\n",
    "print(thisdict)"
   ]
  },
  {
   "cell_type": "markdown",
   "id": "74e41fca-df01-4123-aa3b-c7bf0f47141c",
   "metadata": {},
   "source": [
    "## Task 5"
   ]
  },
  {
   "cell_type": "markdown",
   "id": "608b8563-31c0-4d45-b012-74847e43dfbc",
   "metadata": {},
   "source": [
    "### Nesteds dictionaries"
   ]
  },
  {
   "cell_type": "code",
   "execution_count": 69,
   "id": "4afbefde-255e-4812-b462-ea8a93db2078",
   "metadata": {},
   "outputs": [
    {
     "name": "stdout",
     "output_type": "stream",
     "text": [
      "{'child1': {'name': 'Emil', 'year': 2004}, 'child2': {'name': 'Tobias', 'year': 2007}, 'child3': {'name': 'Linus', 'year': 2011}}\n"
     ]
    }
   ],
   "source": [
    "myfamily = {\n",
    "  \"child1\" : {\n",
    "    \"name\" : \"Emil\",\n",
    "    \"year\" : 2004\n",
    "  },\n",
    "  \"child2\" : {\n",
    "    \"name\" : \"Tobias\",\n",
    "    \"year\" : 2007\n",
    "  },\n",
    "  \"child3\" : {\n",
    "    \"name\" : \"Linus\",\n",
    "    \"year\" : 2011\n",
    "  }\n",
    "}\n",
    "\n",
    "print(myfamily)\n"
   ]
  },
  {
   "cell_type": "markdown",
   "id": "677ca60b-8e04-4ac6-b924-670c206700b3",
   "metadata": {},
   "source": []
  }
 ],
 "metadata": {
  "kernelspec": {
   "display_name": "Python 3 (ipykernel)",
   "language": "python",
   "name": "python3"
  },
  "language_info": {
   "codemirror_mode": {
    "name": "ipython",
    "version": 3
   },
   "file_extension": ".py",
   "mimetype": "text/x-python",
   "name": "python",
   "nbconvert_exporter": "python",
   "pygments_lexer": "ipython3",
   "version": "3.12.4"
  }
 },
 "nbformat": 4,
 "nbformat_minor": 5
}
